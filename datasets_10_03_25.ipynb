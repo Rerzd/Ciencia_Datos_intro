{
  "nbformat": 4,
  "nbformat_minor": 0,
  "metadata": {
    "colab": {
      "provenance": [],
      "authorship_tag": "ABX9TyPTumRtpLwC9zs8uRPUilZn",
      "include_colab_link": true
    },
    "kernelspec": {
      "name": "python3",
      "display_name": "Python 3"
    },
    "language_info": {
      "name": "python"
    }
  },
  "cells": [
    {
      "cell_type": "markdown",
      "metadata": {
        "id": "view-in-github",
        "colab_type": "text"
      },
      "source": [
        "<a href=\"https://colab.research.google.com/github/Rerzd/Ciencia_Datos_intro/blob/main/datasets_10_03_25.ipynb\" target=\"_parent\"><img src=\"https://colab.research.google.com/assets/colab-badge.svg\" alt=\"Open In Colab\"/></a>"
      ]
    },
    {
      "cell_type": "markdown",
      "source": [
        "#Trabajando con medidas centrales\n",
        "###1. como analizar dataframes\n",
        "###2. Overview de los datos\n",
        "###3. obtener medidas centrales\n",
        "###4. Anlizar graficas\n"
      ],
      "metadata": {
        "id": "phGwdxmsiAuP"
      }
    },
    {
      "cell_type": "code",
      "execution_count": null,
      "metadata": {
        "id": "yDxx_no4h-wo"
      },
      "outputs": [],
      "source": [
        "!pip install statsmodels"
      ]
    },
    {
      "cell_type": "code",
      "source": [
        "!pip install wquantiles"
      ],
      "metadata": {
        "id": "qU6UGvdaiAbo"
      },
      "execution_count": null,
      "outputs": []
    },
    {
      "cell_type": "markdown",
      "source": [
        "#1. Analizando dataframes"
      ],
      "metadata": {
        "id": "6IAbyeUPiyxt"
      }
    },
    {
      "cell_type": "code",
      "source": [
        "# vamos a importar todo lo que es importable ps\n",
        "import pandas as pd\n",
        "import numpy as np\n",
        "from scipy.stats import trim_mean\n",
        "from statsmodels import robust\n",
        "import wquantiles\n",
        "import seaborn as sns\n",
        "import matplotlib.pyplot as plt"
      ],
      "metadata": {
        "id": "7KyRPJf_ixhg"
      },
      "execution_count": 3,
      "outputs": []
    },
    {
      "cell_type": "code",
      "source": [
        "katzen = pd.read_csv('/content/state.csv')"
      ],
      "metadata": {
        "id": "rRByTKyUjv0w"
      },
      "execution_count": 6,
      "outputs": []
    },
    {
      "cell_type": "code",
      "source": [
        "# ver los primeros 5 registros\n",
        "katzen.head()"
      ],
      "metadata": {
        "id": "EsiPwnrskf8D"
      },
      "execution_count": null,
      "outputs": []
    },
    {
      "cell_type": "code",
      "source": [
        "#ver los ultimos 4 resultados\n",
        "katzen.tail()"
      ],
      "metadata": {
        "id": "PpPhP8N6k_MW"
      },
      "execution_count": null,
      "outputs": []
    },
    {
      "cell_type": "code",
      "source": [
        "# ver muestreo de 10 registros a la de cristo\n",
        "katzen.sample(10)"
      ],
      "metadata": {
        "id": "CR7ALplklFTV"
      },
      "execution_count": null,
      "outputs": []
    },
    {
      "cell_type": "markdown",
      "source": [
        "#2. Overview de los datos"
      ],
      "metadata": {
        "id": "V3qXhpkrlh2e"
      }
    },
    {
      "cell_type": "code",
      "source": [
        "katzen.columns"
      ],
      "metadata": {
        "id": "ND-qaYlulzuz"
      },
      "execution_count": null,
      "outputs": []
    },
    {
      "cell_type": "code",
      "source": [
        "list(katzen.columns) #convertir en listas los nombres de las columnas"
      ],
      "metadata": {
        "id": "jEgtZBvXmCw-"
      },
      "execution_count": null,
      "outputs": []
    },
    {
      "cell_type": "code",
      "source": [
        "katzen.info #Conoce la existencia de datos nulos (Nan)"
      ],
      "metadata": {
        "id": "KNFwql7zmNK9"
      },
      "execution_count": null,
      "outputs": []
    },
    {
      "cell_type": "code",
      "source": [
        "katzen.describe #Te muestra los datos estadísticos de interés"
      ],
      "metadata": {
        "id": "fEYL9lT4mjS7"
      },
      "execution_count": null,
      "outputs": []
    },
    {
      "cell_type": "markdown",
      "source": [
        "##2.1 Estimado las tasas de población y asesinatos"
      ],
      "metadata": {
        "id": "erIA9blsm46Z"
      }
    },
    {
      "cell_type": "code",
      "source": [
        "katzen[\"Population\"].mean() #reflexión tras 10 mins buscando error: observa las mayusculas"
      ],
      "metadata": {
        "colab": {
          "base_uri": "https://localhost:8080/"
        },
        "id": "_rcHS3Lsm3to",
        "outputId": "7333016b-2b31-485f-d6af-65c23777e037"
      },
      "execution_count": 18,
      "outputs": [
        {
          "output_type": "execute_result",
          "data": {
            "text/plain": [
              "6162876.3"
            ]
          },
          "metadata": {},
          "execution_count": 18
        }
      ]
    },
    {
      "cell_type": "code",
      "source": [
        "trim_mean(katzen[\"Population\"], 0.1)"
      ],
      "metadata": {
        "colab": {
          "base_uri": "https://localhost:8080/"
        },
        "id": "extK6ykznaJi",
        "outputId": "a4116c2f-bc21-4ebf-ec06-43d6cdbbd648"
      },
      "execution_count": 19,
      "outputs": [
        {
          "output_type": "execute_result",
          "data": {
            "text/plain": [
              "4783697.125"
            ]
          },
          "metadata": {},
          "execution_count": 19
        }
      ]
    },
    {
      "cell_type": "code",
      "source": [
        "#media ponderada de asesinatos\n",
        "np.average(katzen[\"Murder.Rate\"], weights = katzen[\"Population\"])"
      ],
      "metadata": {
        "colab": {
          "base_uri": "https://localhost:8080/"
        },
        "id": "6aHve82voC65",
        "outputId": "795a943c-562e-477f-c65b-eb08b16a6378"
      },
      "execution_count": 20,
      "outputs": [
        {
          "output_type": "execute_result",
          "data": {
            "text/plain": [
              "4.445833981123393"
            ]
          },
          "metadata": {},
          "execution_count": 20
        }
      ]
    },
    {
      "cell_type": "code",
      "source": [
        "katzen[\"Murder.Rate\"]. plot.line()"
      ],
      "metadata": {
        "colab": {
          "base_uri": "https://localhost:8080/",
          "height": 447
        },
        "id": "OyPbFgLOo9YZ",
        "outputId": "597e2c41-d607-40ed-f934-565dc01db125"
      },
      "execution_count": 24,
      "outputs": [
        {
          "output_type": "execute_result",
          "data": {
            "text/plain": [
              "<Axes: >"
            ]
          },
          "metadata": {},
          "execution_count": 24
        },
        {
          "output_type": "display_data",
          "data": {
            "text/plain": [
              "<Figure size 640x480 with 1 Axes>"
            ],
            "image/png": "[encoded data removed]"
          },
          "metadata": {}
        }
      ]
    },
    {
      "cell_type": "code",
      "source": [
        "katzen[\"Murder.Rate\"]. plot.bar(color = \"darkred\")"
      ],
      "metadata": {
        "id": "XdPvdLgLpOKu"
      },
      "execution_count": null,
      "outputs": []
    },
    {
      "cell_type": "code",
      "source": [
        "ax = (katzen.Population/1_000_000).plot.hist(color = \"darkred\", figsize=(8,5)) #dividir poblacion / Dar color / ajustar tamaño de barras\n",
        "ax.set_xlabel(\"Population [Millions]\") #Eje X\n",
        "ax.set_ylabel(\"Cats Population\") #Eje y\n",
        "ax.set_title(\"Average american\") #Titulo\n",
        "\n",
        "plt.tight_layout()\n",
        "plt.show()\n"
      ],
      "metadata": {
        "id": "Vr4FMw8CqU5a"
      },
      "execution_count": null,
      "outputs": []
    },
    {
      "cell_type": "code",
      "source": [
        "ax = (katzen[\"Murder.Rate\"]).plot.hist(color = \"turquoise\", figsize=(4,4))\n",
        "ax.set_xlabel(\"Tasa de homicidios\")"
      ],
      "metadata": {
        "id": "AqlFAyW5ruhM"
      },
      "execution_count": null,
      "outputs": []
    },
    {
      "cell_type": "code",
      "source": [
        "analisis=katzen.head()\n",
        "g = sns.FacetGrid(analisis, col=\"State\")\n",
        "g.map(sns.distplot,\"Murder.Rate\", color = \"teal\")"
      ],
      "metadata": {
        "colab": {
          "base_uri": "https://localhost:8080/",
          "height": 1000
        },
        "id": "EI05aiSTsYbW",
        "outputId": "c5499275-0d30-4ce0-81a1-0182ace9a062"
      },
      "execution_count": 45,
      "outputs": [
        {
          "output_type": "stream",
          "name": "stderr",
          "text": [
            "/usr/local/lib/python3.11/dist-packages/seaborn/axisgrid.py:854: UserWarning: \n",
            "\n",
            "`distplot` is a deprecated function and will be removed in seaborn v0.14.0.\n",
            "\n",
            "Please adapt your code to use either `displot` (a figure-level function with\n",
            "similar flexibility) or `histplot` (an axes-level function for histograms).\n",
            "\n",
            "For a guide to updating your code to use the new functions, please see\n",
            "https://gist.github.com/mwaskom/de44147ed2974457ad6372750bbe5751\n",
            "\n",
            "  func(*plot_args, **plot_kwargs)\n",
            "/usr/local/lib/python3.11/dist-packages/seaborn/distributions.py:2496: UserWarning: Dataset has 0 variance; skipping density estimate. Pass `warn_singular=False` to disable this warning.\n",
            "  kdeplot(**{axis: a}, ax=ax, color=kde_color, **kde_kws)\n",
            "/usr/local/lib/python3.11/dist-packages/seaborn/axisgrid.py:854: UserWarning: \n",
            "\n",
            "`distplot` is a deprecated function and will be removed in seaborn v0.14.0.\n",
            "\n",
            "Please adapt your code to use either `displot` (a figure-level function with\n",
            "similar flexibility) or `histplot` (an axes-level function for histograms).\n",
            "\n",
            "For a guide to updating your code to use the new functions, please see\n",
            "https://gist.github.com/mwaskom/de44147ed2974457ad6372750bbe5751\n",
            "\n",
            "  func(*plot_args, **plot_kwargs)\n",
            "/usr/local/lib/python3.11/dist-packages/seaborn/distributions.py:2496: UserWarning: Dataset has 0 variance; skipping density estimate. Pass `warn_singular=False` to disable this warning.\n",
            "  kdeplot(**{axis: a}, ax=ax, color=kde_color, **kde_kws)\n",
            "/usr/local/lib/python3.11/dist-packages/seaborn/axisgrid.py:854: UserWarning: \n",
            "\n",
            "`distplot` is a deprecated function and will be removed in seaborn v0.14.0.\n",
            "\n",
            "Please adapt your code to use either `displot` (a figure-level function with\n",
            "similar flexibility) or `histplot` (an axes-level function for histograms).\n",
            "\n",
            "For a guide to updating your code to use the new functions, please see\n",
            "https://gist.github.com/mwaskom/de44147ed2974457ad6372750bbe5751\n",
            "\n",
            "  func(*plot_args, **plot_kwargs)\n",
            "/usr/local/lib/python3.11/dist-packages/seaborn/distributions.py:2496: UserWarning: Dataset has 0 variance; skipping density estimate. Pass `warn_singular=False` to disable this warning.\n",
            "  kdeplot(**{axis: a}, ax=ax, color=kde_color, **kde_kws)\n",
            "/usr/local/lib/python3.11/dist-packages/seaborn/axisgrid.py:854: UserWarning: \n",
            "\n",
            "`distplot` is a deprecated function and will be removed in seaborn v0.14.0.\n",
            "\n",
            "Please adapt your code to use either `displot` (a figure-level function with\n",
            "similar flexibility) or `histplot` (an axes-level function for histograms).\n",
            "\n",
            "For a guide to updating your code to use the new functions, please see\n",
            "https://gist.github.com/mwaskom/de44147ed2974457ad6372750bbe5751\n",
            "\n",
            "  func(*plot_args, **plot_kwargs)\n",
            "/usr/local/lib/python3.11/dist-packages/seaborn/distributions.py:2496: UserWarning: Dataset has 0 variance; skipping density estimate. Pass `warn_singular=False` to disable this warning.\n",
            "  kdeplot(**{axis: a}, ax=ax, color=kde_color, **kde_kws)\n",
            "/usr/local/lib/python3.11/dist-packages/seaborn/axisgrid.py:854: UserWarning: \n",
            "\n",
            "`distplot` is a deprecated function and will be removed in seaborn v0.14.0.\n",
            "\n",
            "Please adapt your code to use either `displot` (a figure-level function with\n",
            "similar flexibility) or `histplot` (an axes-level function for histograms).\n",
            "\n",
            "For a guide to updating your code to use the new functions, please see\n",
            "https://gist.github.com/mwaskom/de44147ed2974457ad6372750bbe5751\n",
            "\n",
            "  func(*plot_args, **plot_kwargs)\n",
            "/usr/local/lib/python3.11/dist-packages/seaborn/distributions.py:2496: UserWarning: Dataset has 0 variance; skipping density estimate. Pass `warn_singular=False` to disable this warning.\n",
            "  kdeplot(**{axis: a}, ax=ax, color=kde_color, **kde_kws)\n"
          ]
        },
        {
          "output_type": "execute_result",
          "data": {
            "text/plain": [
              "<seaborn.axisgrid.FacetGrid at 0x7c54215f7b10>"
            ]
          },
          "metadata": {},
          "execution_count": 45
        },
        {
          "output_type": "display_data",
          "data": {
            "text/plain": [
              "<Figure size 1500x300 with 5 Axes>"
            ],
            "image/png": "[encoded data removed]"
          },
          "metadata": {}
        }
      ]
    },
    {
      "cell_type": "code",
      "source": [],
      "metadata": {
        "id": "w201cif-uNrv"
      },
      "execution_count": null,
      "outputs": []
    }
  ]
}