{
  "nbformat": 4,
  "nbformat_minor": 0,
  "metadata": {
    "colab": {
      "provenance": [],
      "include_colab_link": true
    },
    "kernelspec": {
      "name": "python3",
      "display_name": "Python 3"
    },
    "language_info": {
      "name": "python"
    }
  },
  "cells": [
    {
      "cell_type": "markdown",
      "metadata": {
        "id": "view-in-github",
        "colab_type": "text"
      },
      "source": [
        "<a href=\"https://colab.research.google.com/github/Rerzd/Ciencia_Datos_intro/blob/main/ciencia_de_datos_ejercicios_de_clase__25.ipynb\" target=\"_parent\"><img src=\"https://colab.research.google.com/assets/colab-badge.svg\" alt=\"Open In Colab\"/></a>"
      ]
    },
    {
      "cell_type": "markdown",
      "source": [
        "2. Identifique de cada ejercicio, cuáles datos son suministrados y qué tipo de datos son.\n",
        "3. Entregue el ejercicio 10 minutos antes de finalizar la clase. Recuerde que debe intentar resolver los ejercicios con **lo que recuerde**. Resolver esta actividad no dará experiencia."
      ],
      "metadata": {
        "id": "UOoCrfU4Irw4"
      }
    },
    {
      "cell_type": "markdown",
      "source": [
        "##**EJERCICIOS**\n",
        "1. Escribe un programa que calcule el área de un triángulo pidiendo base y\n",
        "altura al usuario.\n",
        "2. Crea un programa que convierta grados Celsius a Fahrenheit usando la fórmula: °F = (°C × 9/5) + 32\n",
        "3. Desarrolla un programa que calcule el promedio de tres números ingresados por el usuario.\n",
        "4. Escribe un programa que calcule el perímetro y área de un círculo dado su radio.\n",
        "5. Crea un programa que resuelva una ecuación cuadrática (ax² + bx + c = 0) pidiendo los valores de a, b y c.\n",
        "6. Desarrolla un programa que determine si un número es par o impar.\n",
        "7. Crea un programa que determine si un año es bisiesto (divisible por 4 y no por 100, o divisible por 400).\n",
        "8. Escribe un programa que solicite el nombre del usuario y determine si una persona pertenece a la tercera edad (70 años o más) y si se cumple la condición, imprima que se le da prioridad en la fila.\n",
        "9. Desarrolla un programa que compare tres números y muestre el mayor.\n",
        "10. Crea un programa que determine si un triángulo es equilátero, isósceles o escaleno según sus lados.\n",
        "11. Escribe un programa que calcule el índice de masa corporal (IMC) y determine la categoría (bajo peso, normal, sobrepeso, obesidad). Al final, el programa debe imprimir: el nombre del usuario, su categoría y una breve descripción de lo que debe hacer de acuerdo a su categoría.\n",
        "12. Desarrolla un programa que simule una calculadora simple (+, -, *, /) con dos números.\n",
        "13. Crea un programa que determine la calificación en letras (A, B, C, D, F) según una nota numérica (0-100).\n",
        "14. Escribe un programa que determine el día de la semana según un número (1-7).\n",
        "15. Desarrolla un programa que valide si tres números pueden formar un triángulo y de qué tipo es.\n",
        "\n",
        "###De este punto en adelante, todos los ejercicios deben resolverse empleando el ciclo para y el ciclo mientras.\n",
        "\n",
        "16. Crea un programa que muestre la tabla de multiplicar de un número hasta el 10.\n",
        "17. Escribe un programa que calcule la suma de números naturales hasta n.\n",
        "18. Desarrolla un programa que calcule el factorial de un número. Recuerda que el factorial de 0 es 1 y no existen factoriales negativos.\n",
        "19. Crea un programa que muestre los primeros n números de la serie Fibonacci.\n",
        "20. Escribe un programa que adivine entre un conjunto de diez colores definidos por el usuario, con un máximo de 10 intentos.\n",
        "21. Desarrolla un programa que muestre los números pares del 1 al 100.\n",
        "22. Crea un programa que calcule la suma de los dígitos de un número.\n",
        "23. Escribe un programa que determine si un número es primo.\n",
        "24. Desarrolla un programa que muestre el patrón de un triángulo con asteriscos.\n",
        "25. Crea un programa que calcule la potencia de un número sin usar el operador **.\n",
        "\n",
        "###A partir de este punto, desarrolle los ejercicios empleando funciones\n",
        "26. Escribe un programa que muestre todas las tablas de multiplicar del 1 al 10.\n",
        "27. Desarrolla un programa que encuentre todos los números perfectos hasta n.\n",
        "28. Crea un programa que genere un patrón de diamante con asteriscos.\n",
        "29. Escribe un programa que encuentre todos los números Armstrong hasta n.\n",
        "30. Desarrolla un programa que simule un reloj digital mostrando horas, minutos y segundos durante un período específico."
      ],
      "metadata": {
        "id": "4x2k8LUlLy3V"
      }
    },
    {
      "cell_type": "code",
      "source": [
        "#Ejercicio 1\n",
        "#Escribe un programa que calcule el área de un triángulo pidiendo base y altura al usuario\n",
        "\n",
        "print(\"Vamos a calcular el área del triangulo\")\n",
        "\n",
        "x=float(input(\"Cual es la base?\"))\n",
        "y=float(input(\"cual es la altura?\"))\n",
        "\n",
        "print(\"el area es \"+ str(float(x*y)/2))\n",
        "\n",
        "#Los datos son de tipo float\n"
      ],
      "metadata": {
        "colab": {
          "base_uri": "https://localhost:8080/"
        },
        "id": "_e1FhXbsqV3S",
        "outputId": "31d3d98c-ecbf-4061-d701-4d274a3717bf"
      },
      "execution_count": null,
      "outputs": [
        {
          "output_type": "stream",
          "name": "stdout",
          "text": [
            "Vamos a calcular el área del triangulo\n",
            "Cual es la base?5\n",
            "cual es la altura?4\n",
            "el area es 10.0\n"
          ]
        }
      ]
    },
    {
      "cell_type": "code",
      "source": [
        "#Ejercicio 2\n",
        "#Crea un programa que convierta grados Celsius a Fahrenheit usando la fórmula: °F = (°C × 9/5) + 32\n",
        "\n",
        "print(\"convertiremos C a F\")\n",
        "\n",
        "c=float(input(\"a cuantos grados celsious estas ? \"))\n",
        "\n",
        "print(\"estas en fahrenheir en \"+ str(float((c*9/5)+32)))\n",
        "\n",
        "#Los datos son de tipo float"
      ],
      "metadata": {
        "colab": {
          "base_uri": "https://localhost:8080/"
        },
        "id": "8tE-7vumslnr",
        "outputId": "7d8488bf-234a-4121-b5b3-599a020059a1"
      },
      "execution_count": null,
      "outputs": [
        {
          "output_type": "stream",
          "name": "stdout",
          "text": [
            "convertiremos C a F\n",
            "a cuantos grados celsious estas ? 4\n",
            "estas en fahrenheir en 39.2\n"
          ]
        }
      ]
    },
    {
      "cell_type": "code",
      "source": [
        "# Ejercicio 3\n",
        "print(\"Hallaremos el promedio de tres números\")\n",
        "\n",
        "n1 = float(input(\"Dime un número: \"))\n",
        "n2 = float(input(\"Dime otro: \"))\n",
        "n3 = float(input(\"Uno más: \"))\n",
        "\n",
        "prom = (n1 + n2 + n3) / 3\n",
        "print(\"El promedio es: \" + str(prom))\n",
        "\n",
        "#Los datos son de tipo float"
      ],
      "metadata": {
        "colab": {
          "base_uri": "https://localhost:8080/"
        },
        "id": "fLbjhCElwy8E",
        "outputId": "975830cd-710a-4b4d-d0fb-245bcbefdc75"
      },
      "execution_count": null,
      "outputs": [
        {
          "output_type": "stream",
          "name": "stdout",
          "text": [
            "Hallaremos el promedio de tres números\n",
            "Dime un número: 1\n",
            "Dime otro: 1\n",
            "Uno más: 1\n",
            "El promedio es: 1.0\n"
          ]
        }
      ]
    },
    {
      "cell_type": "code",
      "source": [
        "#Ejercicio 4#Escribe un programa que calcule el perímetro y área de un círculo dado su radio.\n",
        "\n",
        "radio=float(input(\"Cuál es el radio del cicurlo?\"))\n",
        "perimetro=float(2*3.14*radio)\n",
        "area=float(3.14*radio**2)\n",
        "\n",
        "print(\"el perimetro es \"+ str(perimetro)+\" y su área es \"+str(area))\n",
        "\n",
        "#Los datos son de tipo float\n",
        "\n",
        "\n"
      ],
      "metadata": {
        "colab": {
          "base_uri": "https://localhost:8080/"
        },
        "id": "2FDjG3lYxNOV",
        "outputId": "e19f5179-b172-4800-9f12-c03d746964bd"
      },
      "execution_count": null,
      "outputs": [
        {
          "output_type": "stream",
          "name": "stdout",
          "text": [
            "Cuál es el radio del cicurlo?3\n",
            "el perimetro es 18.84 y su área es 28.26\n"
          ]
        }
      ]
    },
    {
      "cell_type": "code",
      "source": [
        "#Ejercicio 5\n",
        "#Crea un programa que resuelva una ecuación cuadrática (ax² + bx + c = 0) pidiendo los valores de a, b y c\n",
        "\n",
        "print(\"calculamos la funcion cuadratica dado a,b y c , de la forma ax² + bx + c = 0\")\n",
        "\n",
        "a=float(input(\"cual es el valor de a?\"))\n",
        "b=float(input(\"cual es el valor de b?\"))\n",
        "c=float(input(\"cual es el valor de c?\"))\n",
        "\n",
        "error=(b**2)-(4*a*c)\n",
        "\n",
        "if error<0:\n",
        "  print(\"las raices no pueden ser números irreales\")\n",
        "\n",
        "else:\n",
        "  x1=float((-b+((b**2)-(4*a*c))**0.5)/(2*a))\n",
        "  x2=float((-b-((b**2)-(4*a*c))**0.5)/(2*a))\n",
        "\n",
        "  print(\"el valor de x1 es \"+str(x1)+\" y el de x2 es \"+str(x2))\n",
        "\n",
        "#Los datos son de tipo float o string\n"
      ],
      "metadata": {
        "colab": {
          "base_uri": "https://localhost:8080/"
        },
        "id": "2kFwghjAyDwq",
        "outputId": "9a42c249-7072-4e9e-ef62-8121b3f473c2"
      },
      "execution_count": null,
      "outputs": [
        {
          "output_type": "stream",
          "name": "stdout",
          "text": [
            "calculamos la funcion cuadratica dado a,b y c , de la forma ax² + bx + c = 0\n",
            "cual es el valor de a?3\n",
            "cual es el valor de b?3\n",
            "cual es el valor de c?3\n",
            "las raices no pueden ser números irreales\n"
          ]
        }
      ]
    },
    {
      "cell_type": "code",
      "source": [
        "#6.Desarrolla un programa que determine si un número es par o impar\n",
        "\n",
        "n1=float(input(\"escribe un número\"))\n",
        "\n",
        "fun= n1%2\n",
        "\n",
        "if fun==0:\n",
        "  print(\"numero par\")\n",
        "else:\n",
        "  print(\"numero impar\")\n",
        "\n",
        "#Los datos son de tipo string\n"
      ],
      "metadata": {
        "colab": {
          "base_uri": "https://localhost:8080/"
        },
        "id": "6lvVkAV50yl6",
        "outputId": "5879ad23-bbf1-41d3-f5f9-d53eb1a76ecb"
      },
      "execution_count": null,
      "outputs": [
        {
          "output_type": "stream",
          "name": "stdout",
          "text": [
            "escribe un número34\n",
            "numero par\n"
          ]
        }
      ]
    },
    {
      "cell_type": "code",
      "source": [
        "#7Crea un programa que determine si un año es bisiesto (divisible por 4 y no por 100, o divisible por 400)\n",
        "\n",
        "año=int(input(\"Ingresa el año: \"))\n",
        "\n",
        "prueba1=año%4\n",
        "p2=año%400\n",
        "\n",
        "if prueba1==0 or p2==0 :\n",
        "  print(\"el año es bisiesto\")\n",
        "else:\n",
        "  print(\"el año no es bisiesto\")\n",
        "\n",
        "#datos tipo string"
      ],
      "metadata": {
        "colab": {
          "base_uri": "https://localhost:8080/"
        },
        "id": "Cun9Yjhr125h",
        "outputId": "8c57d51c-b872-4581-e01e-7586fe065be4"
      },
      "execution_count": null,
      "outputs": [
        {
          "output_type": "stream",
          "name": "stdout",
          "text": [
            "Ingresa el año: 2025\n",
            "el año no es bisiesto\n"
          ]
        }
      ]
    },
    {
      "cell_type": "code",
      "source": [
        "#8Escribe un programa que solicite el nombre del usuario y determine si una persona pertenece\n",
        "#a la tercera edad (70 años o más) y si se cumple la condición, imprima que se le da prioridad en la fila\n",
        "\n",
        "Nom=input(\"Cual es tu nombre?\")\n",
        "edad=int(input(\"Cual es tu edad?\"))\n",
        "\n",
        "if edad>70 or edad==70 :\n",
        "  print(\"El señ@r \" + Nom + \"tiene prioridad en la fila\")\n",
        "else:\n",
        "  print(\"El señ@r \" + Nom + \"no tiene prioridad en la fila\")\n",
        "\n",
        "  #datos tipo string"
      ],
      "metadata": {
        "colab": {
          "base_uri": "https://localhost:8080/"
        },
        "id": "y3CBozrQc6hk",
        "outputId": "7683cd72-f117-4089-f90b-ffb1704d4a8c"
      },
      "execution_count": null,
      "outputs": [
        {
          "output_type": "stream",
          "name": "stdout",
          "text": [
            "Cual es tu nombre?Angie \n",
            "Cual es tu edad?12\n",
            "El señ@r Angie no tiene prioridad en la fila\n"
          ]
        }
      ]
    },
    {
      "cell_type": "code",
      "source": [
        "#9Desarrolla un programa que compare tres números y muestre el mayor.\n",
        "n1=float(input(\"escribe un número\"))\n",
        "n2=float(input(\"escribe otro número\"))\n",
        "n3=float(input(\"escribe otro número\"))\n",
        "\n",
        "if n1>n2 and n1>n3:\n",
        "  print(\"el mayor es \"+str(n1))\n",
        "elif n2>n3:\n",
        "  print(\"el mayor es \"+str(n2))\n",
        "else:\n",
        "  print(\"el mayor es \"+str(n3))\n",
        "\n",
        "#los datos son tipo float\n",
        "\n"
      ],
      "metadata": {
        "colab": {
          "base_uri": "https://localhost:8080/"
        },
        "id": "vAAYarAlfaB9",
        "outputId": "0f456a7e-e45d-4de7-aca6-cb066bea443b"
      },
      "execution_count": null,
      "outputs": [
        {
          "output_type": "stream",
          "name": "stdout",
          "text": [
            "escribe un número2\n",
            "escribe otro número2\n",
            "escribe otro número5\n",
            "el mayor es 5.0\n"
          ]
        }
      ]
    },
    {
      "cell_type": "code",
      "source": [
        "#10.Crea un programa que determine si un triángulo es equilátero, isósceles o escaleno según sus lados.\n",
        "\n",
        "l1=int(input(\"Cual es la longitud del primer lado?\"))\n",
        "l2=int(input(\"Cual es la longitud del segundo lado?\"))\n",
        "l3=int(input(\"Cual es la longitud del tercer lado?\"))\n",
        "\n",
        "if l1==l2 and l1==l3 and l2==l3:\n",
        "  print(\"el triangulo es equilatero\")\n",
        "elif l1==l2 or l2==l3 or l1==l3 :\n",
        "  print(\"el triangulo es isoceles\")\n",
        "else:\n",
        "  print(\"el triangulo es escaleno\")\n",
        "#los primeros datos son int y el ultimo es string"
      ],
      "metadata": {
        "colab": {
          "base_uri": "https://localhost:8080/"
        },
        "id": "t0U30Cykjvvp",
        "outputId": "af58ab4c-47fb-4d54-f706-176eea50717e"
      },
      "execution_count": null,
      "outputs": [
        {
          "output_type": "stream",
          "name": "stdout",
          "text": [
            "Cual es la longitud del primer lado?4\n",
            "Cual es la longitud del segundo lado?5\n",
            "Cual es la longitud del tercer lado?6\n",
            "el triangulo es escaleno\n"
          ]
        }
      ]
    },
    {
      "cell_type": "code",
      "source": [
        "#11Escribe un programa que calcule el índice de masa corporal (IMC) y determine la categoría (bajo peso,  normal, sobrepeso, obesidad).\n",
        "#Al final, el programa debe imprimir: el nombre del usuario, su categoría y una breve descripción de lo que debe hacer de acuerdo a su categoría.\n",
        "\n",
        "nombre=input(\"Cual es tu nombre?\")\n",
        "peso=float(input(\"Cual es tu peso en kg?\"))\n",
        "altura=float(input(\"Cual es tu altura en m?\"))\n",
        "\n",
        "imc=peso/(altura)**2\n",
        "\n",
        "if imc<18.5 :\n",
        "  print(\"bajo peso ,debe comer mas\")\n",
        "elif imc>18.5 and imc<24.9 :\n",
        "  print(\"estas normal , sigue asi\")\n",
        "elif imc>24.9 and imc<29.9 :\n",
        "  print(\"sobrepeso , debe hacer ejercicio y mejorar su dieta\")\n",
        "else :\n",
        "  print(\"obesidad , esta comiendo para morir\")\n",
        "\n",
        "#tipo string"
      ],
      "metadata": {
        "colab": {
          "base_uri": "https://localhost:8080/"
        },
        "id": "QBmMx2K1l9q3",
        "outputId": "91e6bed4-bb52-411d-ff58-397ea0946122"
      },
      "execution_count": null,
      "outputs": [
        {
          "output_type": "stream",
          "name": "stdout",
          "text": [
            "Cual es tu nombre?a\n",
            "Cual es tu peso en kg?45\n",
            "Cual es tu altura en m?345\n",
            "bajo peso ,debe comer mas\n"
          ]
        }
      ]
    },
    {
      "cell_type": "code",
      "source": [
        "#12Desarrolla un programa que simule una calculadora simple (+, -, *, /) con dos números.\n",
        "\n",
        "n1=float(input(\"ingrese un numero: \"))\n",
        "n2=float(input(\"ingrese otro numero: \"))\n",
        "operacion=input(\"ingrese la operacion que desea realizar (+,-,*,/): \")\n",
        "\n",
        "if operacion==\"+\":\n",
        "  print(n1+n2)\n",
        "elif operacion==\"-\":\n",
        "  print(n1-n2)\n",
        "elif operacion==\"*\":\n",
        "  print(n1*n2)\n",
        "\n",
        "#tipo float"
      ],
      "metadata": {
        "colab": {
          "base_uri": "https://localhost:8080/"
        },
        "id": "BBmEPA0Rpwkm",
        "outputId": "39c59d53-0358-4298-bb14-b1732633a7d7"
      },
      "execution_count": null,
      "outputs": [
        {
          "output_type": "stream",
          "name": "stdout",
          "text": [
            "ingrese un numero: 4\n",
            "ingrese otro numero: 5\n",
            "ingrese la operacion que desea realizar (+,-,*,/): -\n",
            "-1.0\n"
          ]
        }
      ]
    },
    {
      "cell_type": "markdown",
      "source": [
        "![image.png](data:image/png;base64,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)"
      ],
      "metadata": {
        "id": "lvfX7GSJHoAk"
      }
    },
    {
      "cell_type": "code",
      "source": [
        "#13 Crea un programa que determine la calificación en letras (A, B, C, D, F) según una nota numérica (0-100)\n",
        "\n",
        "num=float(input(\"Ingrese la nota: \"))\n",
        "\n",
        "if num>=90:\n",
        "    print(\"La nota es A\")\n",
        "elif num<50:\n",
        "    print(\"La nota es F\")\n",
        "elif num>=50 and num<70:\n",
        "    print(\"La nota es D\")\n",
        "elif num>=70 and num<79:\n",
        "    print(\"La nota es C\")\n",
        "elif num>=80 and num<90:\n",
        "    print(\"La nota es B\")\n",
        "\n",
        "#elif es para multiples opciones\n",
        "#else para uno solo\n",
        "#de float a string"
      ],
      "metadata": {
        "id": "708mTDi5sM01",
        "colab": {
          "base_uri": "https://localhost:8080/"
        },
        "outputId": "c77bfe1d-29c2-44ba-cad6-60b86fef8fc2"
      },
      "execution_count": null,
      "outputs": [
        {
          "output_type": "stream",
          "name": "stdout",
          "text": [
            "Ingrese la nota: 78\n",
            "La nota es C\n"
          ]
        }
      ]
    },
    {
      "cell_type": "code",
      "source": [
        "#14 Escribe un programa que determine el día de la semana según un número (1-7).\n",
        "\n",
        "num=int(input(\"Ingrese un numero del 1 al 7: \"))\n",
        "\n",
        "if num==1:\n",
        "    print(\"Lunes\")\n",
        "elif num==2:\n",
        "    print(\"Martes\")\n",
        "elif num==3:\n",
        "    print(\"Miercoles\")\n",
        "elif num==4:\n",
        "    print(\"Jueves\")\n",
        "elif num==5:\n",
        "    print(\"Viernes\")\n",
        "#string"
      ],
      "metadata": {
        "colab": {
          "base_uri": "https://localhost:8080/"
        },
        "id": "qh83Q3OOKQ5N",
        "outputId": "b6afe766-311a-498c-8125-277d765c082c"
      },
      "execution_count": null,
      "outputs": [
        {
          "output_type": "stream",
          "name": "stdout",
          "text": [
            "Ingrese un numero del 1 al 7: 5\n",
            "Viernes\n"
          ]
        }
      ]
    },
    {
      "cell_type": "code",
      "source": [
        "#15 Desarrolla un programa que valide si tres números pueden formar un triángulo y de qué tipo es\n",
        "\n",
        "#la longitud de dos de sus lados debe ser mayor a la longitud del tercer lado.\n",
        "\n",
        "a=float(input(\"Ingrese el primer lado: \"))\n",
        "b=float(input(\"Ingrese el segundo lado: \"))\n",
        "c=float(input(\"Ingrese el tercer lado: \"))\n",
        "\n",
        "if a+b>c and a+c>b and b+c>a:\n",
        "    print(\"Es un triangulo\")\n",
        "else :\n",
        "      print(\"No es un triangulo\")\n",
        "\n",
        "if a==b and a==c and b==c:\n",
        "  print(\"el triangulo es equilatero\")\n",
        "elif a==b or b==c or a==c :\n",
        "  print(\"el triangulo es isoceles\")\n",
        "else:\n",
        "  print(\"el triangulo es escaleno\")\n",
        "\n",
        "#tipo string"
      ],
      "metadata": {
        "colab": {
          "base_uri": "https://localhost:8080/"
        },
        "id": "sN-jdHHXKuTz",
        "outputId": "ac328fb1-2120-4312-ca92-b0cb0f90a345"
      },
      "execution_count": null,
      "outputs": [
        {
          "output_type": "stream",
          "name": "stdout",
          "text": [
            "Ingrese el primer lado: 1\n",
            "Ingrese el segundo lado: 1\n",
            "Ingrese el tercer lado: 1\n",
            "Es un triangulo\n",
            "el triangulo es equilatero\n"
          ]
        }
      ]
    },
    {
      "cell_type": "code",
      "source": [
        "#16.Crea un programa que muestre la tabla de multiplicar de un número hasta el 10\n",
        "\n",
        "num=int(input(\"Ingrese un numero: \"))\n",
        "\n",
        "for i in range(1,11):\n",
        "    print(num,\"x\",i,\"=\",num*i)"
      ],
      "metadata": {
        "id": "cUR6V0uKXReZ",
        "colab": {
          "base_uri": "https://localhost:8080/"
        },
        "outputId": "40c433d0-4f23-4351-889c-36e97e8e18a2"
      },
      "execution_count": null,
      "outputs": [
        {
          "output_type": "stream",
          "name": "stdout",
          "text": [
            "Ingrese un numero: 3\n",
            "3 x 1 = 3\n",
            "3 x 2 = 6\n",
            "3 x 3 = 9\n",
            "3 x 4 = 12\n",
            "3 x 5 = 15\n",
            "3 x 6 = 18\n",
            "3 x 7 = 21\n",
            "3 x 8 = 24\n",
            "3 x 9 = 27\n",
            "3 x 10 = 30\n"
          ]
        }
      ]
    },
    {
      "cell_type": "code",
      "source": [
        "#17 un programa que calcule la suma de números naturales hasta n.\n",
        "num=int(input(\"Ingrese un numero: \"))\n",
        "suma=0\n",
        "for i in range(1,num+1):\n",
        "    suma=suma+i\n",
        "print(\"La suma de los numeros naturales hasta\",num,\"es\",suma)\n",
        "\n",
        "\n"
      ],
      "metadata": {
        "colab": {
          "base_uri": "https://localhost:8080/"
        },
        "id": "_1930XgiCwcB",
        "outputId": "15f2c1cd-5b4d-4896-ebf9-bfa4c7536ac0"
      },
      "execution_count": null,
      "outputs": [
        {
          "output_type": "stream",
          "name": "stdout",
          "text": [
            "Ingrese un numero: 5\n",
            "La suma de los numeros naturales hasta 5 es 15\n"
          ]
        }
      ]
    },
    {
      "cell_type": "code",
      "source": [
        "#18. Desarrolla un programa que calcule el factorial de un número. Recuerda que el factorial de 0 es 1 y no existen factoriales negativos.\n",
        "\n",
        "num=int(input(\"Ingrese un numero: \"))\n",
        "factorial=1\n",
        "for i in range(1,num+1):\n",
        "    factorial=factorial*i\n",
        "print(\"El factorial de\",num,\"es\",factorial)\n",
        "\n",
        "#tipo int"
      ],
      "metadata": {
        "colab": {
          "base_uri": "https://localhost:8080/"
        },
        "id": "_HJyxq3mLvMH",
        "outputId": "8c20447b-3a13-4322-9d48-249b479a17c6"
      },
      "execution_count": null,
      "outputs": [
        {
          "output_type": "stream",
          "name": "stdout",
          "text": [
            "Ingrese un numero: 6\n",
            "El factorial de 6 es 720\n"
          ]
        }
      ]
    },
    {
      "cell_type": "code",
      "source": [
        " #19.Crea un programa que muestre los primeros n números de la serie Fibonacci\n",
        " d=1\n",
        " a=0\n",
        " b=1\n",
        " c=a+b\n",
        "print(a)\n",
        "while d<10:\n",
        "  d=d+1\n",
        "  c=a+b\n",
        "  a=b\n",
        "  b=c\n",
        "  print (c)\n",
        "\n",
        "#tipo int\n",
        "\n"
      ],
      "metadata": {
        "colab": {
          "base_uri": "https://localhost:8080/"
        },
        "id": "Qan8GkZAZrRl",
        "outputId": "856d664d-f221-4277-b9e9-251b750e1226"
      },
      "execution_count": null,
      "outputs": [
        {
          "output_type": "stream",
          "name": "stdout",
          "text": [
            "0\n",
            "1\n",
            "2\n",
            "3\n",
            "5\n",
            "8\n",
            "13\n",
            "21\n",
            "34\n",
            "55\n",
            "89\n"
          ]
        }
      ]
    },
    {
      "cell_type": "code",
      "source": [
        "a=0\n",
        "b=1\n",
        "\n",
        "print(a)\n",
        "for i in range(10):\n",
        "    c=a+b\n",
        "    a=b\n",
        "    b=c\n",
        "    print(c)\n"
      ],
      "metadata": {
        "id": "9jdi67H-iJSZ"
      },
      "execution_count": null,
      "outputs": []
    },
    {
      "cell_type": "code",
      "source": [
        "lista=[]\n",
        "for i in range(10):\n",
        "    color=str(input(\"Ingrese un color: \"))\n",
        "    lista.append(color)\n",
        "print(lista)"
      ],
      "metadata": {
        "colab": {
          "base_uri": "https://localhost:8080/"
        },
        "id": "xRS9WJRUnbM2",
        "outputId": "8abf4bf1-9fed-4fd0-bb1b-e29276f24c83"
      },
      "execution_count": null,
      "outputs": [
        {
          "output_type": "stream",
          "name": "stdout",
          "text": [
            "Ingrese un color: a\n",
            "Ingrese un color: v\n",
            "Ingrese un color: r\n",
            "Ingrese un color: b\n",
            "Ingrese un color: n\n",
            "Ingrese un color: h\n",
            "Ingrese un color: g\n",
            "Ingrese un color: d\n",
            "Ingrese un color: w\n",
            "Ingrese un color: e\n",
            "['a', 'v', 'r', 'b', 'n', 'h', 'g', 'd', 'w', 'e']\n"
          ]
        }
      ]
    },
    {
      "cell_type": "code",
      "source": [
        "#20.Escribe un programa que adivine entre un conjunto de diez colores definidos por el usuario, con un máximo de 10 intentos.\n",
        "import random\n",
        "lista=[]\n",
        "for i in range(10):\n",
        "    color=str(input(\"Ingrese un color: \"))\n",
        "    lista.append(color)\n",
        "print(lista)\n",
        "\n",
        "\n",
        "num=random.randint(0,9)\n",
        "c3=lista[num]\n",
        "\n",
        "for i in range(10):\n",
        "  c=input(\" adivina el color:\")\n",
        "  if c==c3:\n",
        "    print(\"Adivinaste\")\n",
        "    break\n",
        "  else:\n",
        "    print(\"No adivinaste\")\n",
        "\n",
        "\n",
        "\n",
        "\n",
        "\n",
        "\n"
      ],
      "metadata": {
        "id": "2gLT5poUirci"
      },
      "execution_count": null,
      "outputs": []
    },
    {
      "cell_type": "code",
      "source": [
        "#21 Desarrolla un programa que muestre los números pares del 1 al 100.\n",
        "\n",
        "for i in range(1,101):\n",
        "    if i%2==0:\n",
        "      print (i)"
      ],
      "metadata": {
        "colab": {
          "base_uri": "https://localhost:8080/"
        },
        "id": "YTFEe-QTo-jX",
        "outputId": "790a77ba-e07d-42d8-b7ab-d2c0b0ac57bf"
      },
      "execution_count": null,
      "outputs": [
        {
          "output_type": "stream",
          "name": "stdout",
          "text": [
            "2\n",
            "4\n",
            "6\n",
            "8\n",
            "10\n",
            "12\n",
            "14\n",
            "16\n",
            "18\n",
            "20\n",
            "22\n",
            "24\n",
            "26\n",
            "28\n",
            "30\n",
            "32\n",
            "34\n",
            "36\n",
            "38\n",
            "40\n",
            "42\n",
            "44\n",
            "46\n",
            "48\n",
            "50\n",
            "52\n",
            "54\n",
            "56\n",
            "58\n",
            "60\n",
            "62\n",
            "64\n",
            "66\n",
            "68\n",
            "70\n",
            "72\n",
            "74\n",
            "76\n",
            "78\n",
            "80\n",
            "82\n",
            "84\n",
            "86\n",
            "88\n",
            "90\n",
            "92\n",
            "94\n",
            "96\n",
            "98\n",
            "100\n"
          ]
        }
      ]
    },
    {
      "cell_type": "code",
      "source": [
        "#22Crea un programa que calcule la suma de los dígitos de un número.\n",
        "\n",
        "num=int(input(\"Ingrese un numero: \"))\n",
        "suma=0\n",
        "while num>0:\n",
        "    suma=suma+num%10\n",
        "    num=num//10\n",
        "print(\"La suma de los digitos del numero es\",suma)\n"
      ],
      "metadata": {
        "colab": {
          "base_uri": "https://localhost:8080/"
        },
        "id": "NNDWJWbrMzEL",
        "outputId": "126d701b-0068-47bb-8dd2-3fe88edc109d"
      },
      "execution_count": null,
      "outputs": [
        {
          "output_type": "stream",
          "name": "stdout",
          "text": [
            "Ingrese un numero: 34\n",
            "La suma de los digitos del numero es 7\n"
          ]
        }
      ]
    },
    {
      "cell_type": "code",
      "source": [
        "#23 Escribe un programa que determine si un número es primo\n",
        "\n",
        "num=int(input(\"Ingrese un numero: \"))\n",
        "num1=num+1\n",
        "\n",
        "for i in range(1,num1):\n",
        " if num%i==0:\n",
        "  a+=1\n",
        "if a==2:\n",
        "  print(\"Es primo\")\n",
        "else:\n",
        "  print(\"No es primo\")"
      ],
      "metadata": {
        "colab": {
          "base_uri": "https://localhost:8080/"
        },
        "id": "_Y5xceg3O2Hl",
        "outputId": "9601441b-5add-4b1b-f5b0-6057f5b3efc3"
      },
      "execution_count": null,
      "outputs": [
        {
          "output_type": "stream",
          "name": "stdout",
          "text": [
            "Ingrese un numero: 8\n",
            "No es primo\n"
          ]
        }
      ]
    },
    {
      "cell_type": "code",
      "source": [
        "es_primo(8)"
      ],
      "metadata": {
        "colab": {
          "base_uri": "https://localhost:8080/"
        },
        "id": "DO0pTUWH73EY",
        "outputId": "9e3eec0f-db08-4fd2-dc50-3dd092b43ccc"
      },
      "execution_count": null,
      "outputs": [
        {
          "output_type": "stream",
          "name": "stdout",
          "text": [
            "No es primo 2 es divisor\n"
          ]
        },
        {
          "output_type": "execute_result",
          "data": {
            "text/plain": [
              "False"
            ]
          },
          "metadata": {},
          "execution_count": 28
        }
      ]
    },
    {
      "cell_type": "code",
      "source": [
        "#24Desarrolla un programa que muestre el patrón de un triángulo con asteriscos"
      ],
      "metadata": {
        "id": "oKZDqIV0ZnPg"
      },
      "execution_count": null,
      "outputs": []
    },
    {
      "cell_type": "code",
      "source": [
        "c=1"
      ],
      "metadata": {
        "id": "sc-FQTG4CHZ_"
      },
      "execution_count": null,
      "outputs": []
    },
    {
      "cell_type": "code",
      "source": [
        "#25Crea un programa que calcule la potencia de un número sin usar el operador **\n",
        "\n",
        "num=int(input(\"dime el número:\"))\n",
        "pot=int(input(\"potencia\"))\n",
        "\n",
        "c=1\n",
        "\n",
        "for i in range(pot):\n",
        "  c=num*c\n",
        "\n",
        "print(c)\n",
        "\n",
        "\n",
        "\n"
      ],
      "metadata": {
        "id": "nb-K1gKzU588",
        "colab": {
          "base_uri": "https://localhost:8080/"
        },
        "outputId": "b471e263-738c-4112-8633-fd987f2b6116"
      },
      "execution_count": null,
      "outputs": [
        {
          "output_type": "stream",
          "name": "stdout",
          "text": [
            "dime el número:3\n",
            "potencia3\n",
            "27\n"
          ]
        }
      ]
    },
    {
      "cell_type": "code",
      "source": [
        "#26 Escribe un programa que muestre todas las tablas de multiplicar del 1 al 10\n",
        "\n",
        "def multiplicar():\n",
        "  a=1\n",
        "  for i in range(1,11):\n",
        "    print(f\"{i} * {a} = {i*a}\")"
      ],
      "metadata": {
        "id": "Z4RdgScMa5l6"
      },
      "execution_count": null,
      "outputs": []
    },
    {
      "cell_type": "code",
      "source": [
        "multiplicar()"
      ],
      "metadata": {
        "colab": {
          "base_uri": "https://localhost:8080/"
        },
        "id": "VVWXRutUfzMZ",
        "outputId": "165d5cf0-f3d9-4906-ebbc-8780e1283c73"
      },
      "execution_count": null,
      "outputs": [
        {
          "output_type": "stream",
          "name": "stdout",
          "text": [
            "1 * 1 = 1\n",
            "2 * 1 = 2\n",
            "3 * 1 = 3\n",
            "4 * 1 = 4\n",
            "5 * 1 = 5\n",
            "6 * 1 = 6\n",
            "7 * 1 = 7\n",
            "8 * 1 = 8\n",
            "9 * 1 = 9\n",
            "10 * 1 = 10\n"
          ]
        }
      ]
    },
    {
      "cell_type": "code",
      "source": [
        "#27Desarrolla un programa que encuentre todos los números perfectos hasta n.\n",
        "def encontrar_numeros_perfectos(limite):\n",
        "    numeros_perfectos = []\n",
        "    for num in range(2, limite + 1):\n",
        "        if es_numero_perfecto(num):\n",
        "            numeros_perfectos.append(num)\n",
        "    return numeros_perfectos"
      ],
      "metadata": {
        "id": "4W-HfA4ldFje"
      },
      "execution_count": null,
      "outputs": []
    },
    {
      "cell_type": "code",
      "source": [
        "encontrar_numeros_perfectos(1000)"
      ],
      "metadata": {
        "colab": {
          "base_uri": "https://localhost:8080/"
        },
        "id": "XKn4PMVcd6MV",
        "outputId": "a3a20c50-3c71-4f45-e04f-1388969c5113"
      },
      "execution_count": null,
      "outputs": [
        {
          "output_type": "execute_result",
          "data": {
            "text/plain": [
              "[6, 28, 496]"
            ]
          },
          "metadata": {},
          "execution_count": 28
        }
      ]
    },
    {
      "cell_type": "code",
      "source": [
        "#28.patron de diamente con asterisco\n",
        "filas=9\n",
        "for i in range (1,filas+1):\n",
        "  i=i-(filas//2+1)\n",
        "  if i<0:\n",
        "    i=-i\n",
        "  print(\" \"*i+\"*\"*(filas-2*i))\n",
        "\n",
        "  #tipo datos caracter"
      ],
      "metadata": {
        "colab": {
          "base_uri": "https://localhost:8080/"
        },
        "id": "SCwNtnGsfKj4",
        "outputId": "4a530ee5-7980-49fd-8e63-114f20176fd3"
      },
      "execution_count": null,
      "outputs": [
        {
          "output_type": "stream",
          "name": "stdout",
          "text": [
            "    *\n",
            "   ***\n",
            "  *****\n",
            " *******\n",
            "*********\n",
            " *******\n",
            "  *****\n",
            "   ***\n",
            "    *\n"
          ]
        }
      ]
    },
    {
      "cell_type": "code",
      "source": [
        "#29Escribe un programa que encuentre todos los números Armstrong hasta n.\n",
        "def es_numero_armstrong(numero):\n",
        "    num_digitos = len(str(numero))\n",
        "    suma = 0\n",
        "    temp = numero\n",
        "\n",
        "    while temp > 0:\n",
        "        digito = temp % 10\n",
        "        suma += digito ** num_digitos\n",
        "        temp //= 10\n",
        "\n",
        "    return numero == suma\n",
        "def imprimir_numeros_armstrong(inicio, fin):\n",
        "    print(f\"Números de Armstrong entre {inicio} y {fin}:\")\n",
        "    for numero in range(inicio, fin + 1):\n",
        "        if es_numero_armstrong(numero):\n",
        "            print(numero)\n"
      ],
      "metadata": {
        "id": "1zlJreqdez3p"
      },
      "execution_count": null,
      "outputs": []
    },
    {
      "cell_type": "code",
      "source": [
        "imprimir_numeros_armstrong(1, 1000)"
      ],
      "metadata": {
        "colab": {
          "base_uri": "https://localhost:8080/"
        },
        "id": "N_a7zKWofMkn",
        "outputId": "895406c5-9f79-45c9-e65f-29855c6fafad"
      },
      "execution_count": null,
      "outputs": [
        {
          "output_type": "stream",
          "name": "stdout",
          "text": [
            "Números de Armstrong entre 1 y 1000:\n",
            "1\n",
            "2\n",
            "3\n",
            "4\n",
            "5\n",
            "6\n",
            "7\n",
            "8\n",
            "9\n",
            "153\n",
            "370\n",
            "371\n",
            "407\n"
          ]
        }
      ]
    }
  ]
}